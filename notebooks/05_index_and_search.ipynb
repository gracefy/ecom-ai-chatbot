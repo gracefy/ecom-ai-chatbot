{
 "cells": [
  {
   "cell_type": "markdown",
   "id": "320eb774",
   "metadata": {},
   "source": [
    "## 1. Loading Data"
   ]
  },
  {
   "cell_type": "code",
   "execution_count": 1,
   "id": "cc95cb7a",
   "metadata": {},
   "outputs": [],
   "source": [
    "# Import necessary libraries\n",
    "import pandas as pd\n",
    "import numpy as np\n",
    "from sklearn.metrics.pairwise import cosine_similarity\n",
    "import os\n",
    "import re\n",
    "import json\n",
    "from dotenv import load_dotenv\n",
    "from openai import OpenAI"
   ]
  },
  {
   "cell_type": "code",
   "execution_count": 2,
   "id": "38a2ce42",
   "metadata": {},
   "outputs": [],
   "source": [
    "# load embedding data\n",
    "embedding_df = pd.read_pickle('../data/embedding_with_metadata.pkl')\n",
    "\n",
    "# load and configure OpenAI client\n",
    "load_dotenv()\n",
    "OPENAI_API_KEY = os.getenv(\"OPENAI_API_KEY\")\n",
    "openai_client = OpenAI(api_key=OPENAI_API_KEY)"
   ]
  },
  {
   "cell_type": "code",
   "execution_count": 3,
   "id": "df047cd4",
   "metadata": {},
   "outputs": [
    {
     "name": "stdout",
     "output_type": "stream",
     "text": [
      "Embedding dimension: 1536\n"
     ]
    }
   ],
   "source": [
    "# Sanity Check: ensure embeddings are loaded correctly\n",
    "embedding_lengths = embedding_df['embedding'].apply(len)\n",
    "assert embedding_lengths.nunique() == 1, \"Inconsistent embedding dimensions\"\n",
    "\n",
    "embedding_dim = embedding_lengths.iloc[0]\n",
    "print(f\"Embedding dimension: {embedding_dim}\")"
   ]
  },
  {
   "cell_type": "code",
   "execution_count": 4,
   "id": "7c7717c9",
   "metadata": {},
   "outputs": [],
   "source": [
    "# Convert to numpy array\n",
    "embeddings = np.vstack(embedding_df['embedding'].tolist()).astype(np.float32)"
   ]
  },
  {
   "cell_type": "markdown",
   "id": "b2fe824d",
   "metadata": {},
   "source": [
    "## 2. Search"
   ]
  },
  {
   "cell_type": "markdown",
   "id": "b74e1ef1",
   "metadata": {},
   "source": [
    "### 2.1 Define the search function"
   ]
  },
  {
   "cell_type": "code",
   "execution_count": 5,
   "id": "db86750e",
   "metadata": {},
   "outputs": [],
   "source": [
    "# Generate embedding for query\n",
    "def generate_query_embedding(query_text, model=\"text-embedding-ada-002\"):\n",
    "    response = openai_client.embeddings.create(\n",
    "        model=model,\n",
    "        input=query_text\n",
    "    )\n",
    "    return response.data[0].embedding"
   ]
  },
  {
   "cell_type": "code",
   "execution_count": null,
   "id": "5f8915cf",
   "metadata": {},
   "outputs": [],
   "source": [
    "# Hybrid Attribute Extraction (Rule + LLM)\n",
    "def extract_filters(query_text):\n",
    "    filters = {}\n",
    "\n",
    "    # Rule-based gender extraction\n",
    "    gender_patterns = {\n",
    "        'Women': r'(?i)\\b(women|woman|ladies|female)\\b',\n",
    "        'Men': r'(?i)\\b(men|man|gentlemen|male)\\b',\n",
    "        'Boys': r'(?i)\\b(boys|boy)\\b',\n",
    "        'Girls': r'(?i)\\b(girls|girl)\\b',\n",
    "        'Unisex': r'(?i)\\bunisex\\b'\n",
    "    }\n",
    "    for gender, pattern in gender_patterns.items():\n",
    "        if re.search(pattern, query_text):\n",
    "            filters['gender'] = gender\n",
    "            break\n",
    "\n",
    "    # Rule-based color extraction\n",
    "    color_patterns = {\n",
    "        'Red': r'(?i)\\b(red|burgundy|maroon)\\b',\n",
    "        'Blue': r'(?i)\\b(blue|navy)\\b',\n",
    "        'Grey': r'(?i)\\b(grey|silver|charcoal)\\b',\n",
    "        'Yellow': r'(?i)\\b(yellow|gold|mustard|orange|khaki)\\b',\n",
    "        'Pink': r'(?i)\\bpink\\b',\n",
    "        'Black': r'(?i)\\bblack\\b',\n",
    "        'White': r'(?i)\\bwhite\\b'\n",
    "    }\n",
    "    for color, pattern in color_patterns.items():\n",
    "        if re.search(pattern, query_text):\n",
    "            filters['color_group'] = color\n",
    "            break\n",
    "\n",
    "    # LLM-based price extraction\n",
    "    system_prompt = \"\"\"\n",
    "        You are an e-commerce assistant. Extract price range from user query.\n",
    "        Return JSON like: {\"min_price\": xxx, \"max_price\": yyy}.\n",
    "        If only 'under 5000' is mentioned, return {\"max_price\": 5000}.\n",
    "        If only 'above 1000' is mentioned, return {\"min_price\": 1000}.\n",
    "        If no price is mentioned, return empty JSON.\n",
    "        \"\"\"\n",
    "    \n",
    "    response = openai_client.chat.completions.create(\n",
    "        model=\"gpt-4o\",\n",
    "        messages=[\n",
    "            {\"role\": \"system\", \"content\": system_prompt},\n",
    "            {\"role\": \"user\", \"content\": f\"Query: {query_text}\"}\n",
    "        ],\n",
    "        temperature=0\n",
    "    )\n",
    "    content = response.choices[0].message.content\n",
    "    try:\n",
    "        price_filter = json.loads(content)\n",
    "        filters.update(price_filter)\n",
    "    except:\n",
    "        pass\n",
    "\n",
    "    return filters\n"
   ]
  },
  {
   "cell_type": "code",
   "execution_count": null,
   "id": "02b28d70",
   "metadata": {},
   "outputs": [],
   "source": [
    "# Filter-Then-Search Pipeline\n",
    "def filter_search(query_text, prefetch_k=100, top_k=5):\n",
    "    print(f\"\\nIncoming query: {query_text}\")\n",
    "\n",
    "    # Step 1: Extract filters from user query (gender, color_group, price range)\n",
    "    filters = extract_filters(query_text)\n",
    "    print(f\"Extracted filters: {filters}\")\n",
    "\n",
    "    # Vector search first (full embedding space)\n",
    "    query_embedding = generate_query_embedding(query_text)\n",
    "    embeddings_all = np.vstack(embedding_df['embedding'].tolist()).astype(np.float32)\n",
    "    query_vector = np.array(query_embedding).reshape(1, -1).astype('float32')\n",
    "    similarities = cosine_similarity(query_vector, embeddings_all)\n",
    "    top_indices = np.argsort(similarities[0])[::-1][:prefetch_k]\n",
    "\n",
    "   # Select top candidates\n",
    "    candidates = embedding_df.iloc[top_indices].copy()\n",
    "    candidates['score'] = similarities[0][top_indices]\n",
    "\n",
    "    # Step 3: If no filters detected, return pure vector search results directly\n",
    "    if not filters:\n",
    "        print(\"\\nNo filters detected, returning top candidates based on vector search scores.\")\n",
    "        final_results = candidates.sort_values('score', ascending=False).head(top_k)\n",
    "        print(\"\\nTop search results:\")\n",
    "        print(final_results[['product_id', 'product_name', 'product_brand', \n",
    "                              'gender', 'color_group', 'price_inr', 'score']])\n",
    "        return\n",
    "    \n",
    "    # Step 4: Apply soft filter bonus if filters exist\n",
    "    bonus_weight = 0.1\n",
    "    candidates['filter_bonus'] = 0\n",
    "\n",
    "\n",
    "    # Apply bonus for matching attributes\n",
    "    if 'gender' in filters:\n",
    "        candidates['filter_bonus'] += (candidates['gender'] == filters['gender']).astype(int)\n",
    "    if 'color_group' in filters:\n",
    "        candidates['filter_bonus'] += (candidates['color_group'] == filters['color_group']).astype(int)\n",
    "    if 'min_price' in filters:\n",
    "        candidates['filter_bonus'] += (candidates['price_inr'] >= filters['min_price']).astype(int)\n",
    "    if 'max_price' in filters:\n",
    "        candidates['filter_bonus'] += (candidates['price_inr'] <= filters['max_price']).astype(int)\n",
    "\n",
    "    # Combine original similarity score and filter bonus\n",
    "    candidates['final_score'] = candidates['score'] + bonus_weight * candidates['filter_bonus']\n",
    "\n",
    "    # Step 5: Sort by final score\n",
    "    final_results = candidates.sort_values('final_score', ascending=False).head(top_k)\n",
    "\n",
    "    print(\"\\nTop search results:\")\n",
    "    print(final_results[['product_id', 'product_name', 'product_brand', 'gender', 'color_group', 'price_inr', 'score', 'final_score']])"
   ]
  },
  {
   "cell_type": "code",
   "execution_count": 8,
   "id": "e5e22a61",
   "metadata": {},
   "outputs": [
    {
     "name": "stdout",
     "output_type": "stream",
     "text": [
      "\n",
      "Incoming query: Casual shoes under 5k for kids unisex\n",
      "Extracted filters: {'gender': 'Unisex', 'max_price': 5000}\n",
      "\n",
      "Top search results:\n",
      "       product_id                                       product_name  \\\n",
      "10453    10248227             Puma Unisex Grey Leather Running Shoes   \n",
      "804      10018015                         Puma Unisex Black Sneakers   \n",
      "10289    10253211      Puma Unisex Grey Cappela IDP Slip-on Sneakers   \n",
      "10163    10253231  Puma Unisex Maroon Auxius V2 IDP Printed Slip-...   \n",
      "516      10018053                          Puma Unisex Blue Sneakers   \n",
      "\n",
      "      product_brand  gender color_group  price_inr     score  final_score  \n",
      "10453          Puma  Unisex        Grey     4674.0  0.831802     1.031802  \n",
      "804            Puma  Unisex       Black     3199.0  0.825517     1.025517  \n",
      "10289          Puma  Unisex        Grey     1979.0  0.825307     1.025307  \n",
      "10163          Puma  Unisex         Red     2799.0  0.824423     1.024423  \n",
      "516            Puma  Unisex        Blue     2999.0  0.824388     1.024388  \n"
     ]
    }
   ],
   "source": [
    "filter_search(\"Casual shoes under 5k for kids unisex\")"
   ]
  }
 ],
 "metadata": {
  "kernelspec": {
   "display_name": ".venv",
   "language": "python",
   "name": "python3"
  },
  "language_info": {
   "codemirror_mode": {
    "name": "ipython",
    "version": 3
   },
   "file_extension": ".py",
   "mimetype": "text/x-python",
   "name": "python",
   "nbconvert_exporter": "python",
   "pygments_lexer": "ipython3",
   "version": "3.11.13"
  }
 },
 "nbformat": 4,
 "nbformat_minor": 5
}
