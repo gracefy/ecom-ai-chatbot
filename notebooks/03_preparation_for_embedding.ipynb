{
 "cells": [
  {
   "cell_type": "markdown",
   "id": "df570f5c",
   "metadata": {},
   "source": [
    "## 1. Loading Dataset"
   ]
  },
  {
   "cell_type": "code",
   "execution_count": null,
   "id": "850cf5cb",
   "metadata": {},
   "outputs": [],
   "source": [
    "# Import necessary libraries\n",
    "import pandas as pd"
   ]
  },
  {
   "cell_type": "code",
   "execution_count": null,
   "id": "82e1076d",
   "metadata": {},
   "outputs": [],
   "source": [
    "# Load the cleaned data\n",
    "cleaned_data = pd.read_csv('../data/data_cleaned.csv')\n",
    "\n",
    "cleaned_data"
   ]
  },
  {
   "cell_type": "markdown",
   "id": "3408c365",
   "metadata": {},
   "source": [
    "## 2. Data Preprocessing\n",
    "\n",
    "- Color grouping\n",
    "\n",
    "- Full text generation"
   ]
  },
  {
   "cell_type": "markdown",
   "id": "2d0810b3",
   "metadata": {},
   "source": [
    "### 2.1 Color Grouping"
   ]
  },
  {
   "cell_type": "code",
   "execution_count": null,
   "id": "fb430a8a",
   "metadata": {},
   "outputs": [],
   "source": [
    "color_mapping = {\n",
    "    'Grey': 'Grey', 'Silver': 'Grey', 'Charcoal': 'Grey',\n",
    "    'Yellow': 'Yellow', 'Gold': 'Yellow', 'Mustard': 'Yellow', 'Orange': 'Yellow', 'Khaki': 'Yellow',\n",
    "    'Red': 'Red', 'Burgundy': 'Red', 'Maroon': 'Red',\n",
    "    'Blue': 'Blue', 'Navy': 'Blue',\n",
    "    'Pink': 'Pink',\n",
    "}\n",
    "\n",
    "cleaned_data['color_group'] = cleaned_data['primary_color'].map(color_mapping).fillna(cleaned_data['primary_color'])"
   ]
  },
  {
   "cell_type": "markdown",
   "id": "76f1f35e",
   "metadata": {},
   "source": [
    "### 2.2 Full Text Generation"
   ]
  },
  {
   "cell_type": "code",
   "execution_count": null,
   "id": "885d4926",
   "metadata": {},
   "outputs": [],
   "source": [
    "# Combine 'product_name' and 'description' into a single 'full_text'\n",
    "cleaned_data['full_text'] = cleaned_data['product_name'].str.strip() + \". \" + cleaned_data['description'].str.strip()\n",
    "\n",
    "# Convert 'full_text' to lowercase and strip whitespace\n",
    "cleaned_data['full_text'] = cleaned_data['full_text'].str.lower().str.strip()\n"
   ]
  },
  {
   "cell_type": "code",
   "execution_count": null,
   "id": "9de71ac0",
   "metadata": {},
   "outputs": [],
   "source": [
    "# Calculate the length of each text entry in words\n",
    "cleaned_data['text_length'] = cleaned_data['full_text'].apply(lambda x: len(x.split()))\n",
    "\n",
    "\n",
    "# Display the descriptive statistics\n",
    "cleaned_data['text_length'].describe()\n"
   ]
  },
  {
   "cell_type": "markdown",
   "id": "aa1a1f65",
   "metadata": {},
   "source": [
    "- Most product records contain between 20 to 35 words, with an average length of 30 words. \n",
    "\n",
    "- The max text length is 346 words, a soft truncation threshold of 400 words was applied as a safeguard for potential future data growth."
   ]
  },
  {
   "cell_type": "code",
   "execution_count": null,
   "id": "7654d64a",
   "metadata": {},
   "outputs": [],
   "source": [
    "MAX_WORD_LENGTH = 400 \n",
    "\n",
    "def truncate_text(text):\n",
    "    words = text.split()\n",
    "    return ' '.join(words[:MAX_WORD_LENGTH])\n",
    "\n",
    "cleaned_data['full_text'] = cleaned_data['full_text'].apply(truncate_text)"
   ]
  },
  {
   "cell_type": "code",
   "execution_count": null,
   "id": "fb5b5abe",
   "metadata": {},
   "outputs": [],
   "source": [
    "# Check sample entries to verify the changes\n",
    "cleaned_data[['product_name', 'description', 'full_text']].sample(5)"
   ]
  },
  {
   "cell_type": "markdown",
   "id": "540cbfcc",
   "metadata": {},
   "source": [
    "## 3. Embedding Date Generation"
   ]
  },
  {
   "cell_type": "code",
   "execution_count": null,
   "id": "219a93ca",
   "metadata": {},
   "outputs": [],
   "source": [
    "# Select relevant fields for embedding\n",
    "final_fields = [\n",
    "    'product_id',\n",
    "    'product_name',\n",
    "    'full_text',\n",
    "    'product_brand',\n",
    "    'gender',\n",
    "    'primary_color',\n",
    "    'color_group'\n",
    "]\n",
    "\n",
    "data_for_embedding = cleaned_data[final_fields].copy()\n",
    "\n",
    "# Save the processed data for embedding\n",
    "data_for_embedding.to_csv(\"../data/data_for_embedding.csv\", index=False)"
   ]
  }
 ],
 "metadata": {
  "kernelspec": {
   "display_name": ".venv",
   "language": "python",
   "name": "python3"
  },
  "language_info": {
   "codemirror_mode": {
    "name": "ipython",
    "version": 3
   },
   "file_extension": ".py",
   "mimetype": "text/x-python",
   "name": "python",
   "nbconvert_exporter": "python",
   "pygments_lexer": "ipython3",
   "version": "3.11.13"
  }
 },
 "nbformat": 4,
 "nbformat_minor": 5
}
